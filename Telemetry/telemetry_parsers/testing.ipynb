{
 "cells": [
  {
   "cell_type": "code",
   "execution_count": 182,
   "metadata": {},
   "outputs": [
    {
     "name": "stdout",
     "output_type": "stream",
     "text": [
      "The autoreload extension is already loaded. To reload it, use:\n",
      "  %reload_ext autoreload\n"
     ]
    }
   ],
   "source": [
    "import pandas as pd\n",
    "import numpy as np\n",
    "import datetime as dt\n",
    "import sys\n",
    "import os\n",
    "import parsers as p\n",
    "import time\n",
    "%load_ext autoreload\n",
    "%autoreload 2"
   ]
  },
  {
   "cell_type": "code",
   "execution_count": 72,
   "metadata": {},
   "outputs": [
    {
     "name": "stdout",
     "output_type": "stream",
     "text": [
      "305\n",
      "1.734907627105713\n"
     ]
    }
   ],
   "source": [
    "timea=time.time()\n",
    "df = pd.read_csv(\"../telemetry_exe/Raw_Data/data0101.csv\", dtype = str, on_bad_lines = \"skip\")\n",
    "init_sz = df.shape[0]\n",
    "df = df[df[\"time\"].str.len()==13]\n",
    "df = df[df['msg.len'].str.len()==1]\n",
    "df = df[~df['msg.id'].isnull()]\n",
    "df = df[~(df['msg.id'].str.len()<2)]\n",
    "df = df[~(df['msg.id'].str.len()>3)]\n",
    "\n",
    "#df['time'] = pd.to_numeric(df['time'])\n",
    "#print(np.any(df['time'][1:]-df['time'][:-1]<0))\n",
    "#indices = np.where(df['time'][1:]-df['time'][:-1]<0)[0]+1\n",
    "#df.iloc[indices]['time']=df['time'][indices]+1000\n",
    "#df.iloc[265816-5:265816+5].head(10)\n",
    "\n",
    "df['time'] = pd.to_datetime(df['time'], unit='ms')\n",
    "df[\"msg.id\"] = df[\"msg.id\"].apply(int, base = 16)\n",
    "df[\"msg.len\"] = pd.to_numeric(df['msg.len'])\n",
    "df = df[df['msg.len']*2 == df['data'].str.len()]\n",
    "df[\"data\"] = df[\"data\"].apply(int, base = 16)\n",
    "df[\"data\"] = df['data'].to_numpy(dtype=np.uint64).byteswap()>>(8*(8-df[\"msg.len\"])).to_numpy(dtype=np.uint16)\n",
    "df = df.reset_index(drop=True)\n",
    "pruned_sz = df.shape[0]\n",
    "print(init_sz - pruned_sz)\n",
    "print(time.time()-timea)\n",
    "\n",
    "#df.head()"
   ]
  },
  {
   "cell_type": "code",
   "execution_count": 199,
   "metadata": {},
   "outputs": [],
   "source": [
    "df = df.sample(frac=1).reset_index(drop=True)\n",
    "df.sort_values(by=['time'],inplace=True)\n",
    "df = df.reset_index(drop=True)"
   ]
  },
  {
   "cell_type": "code",
   "execution_count": 53,
   "metadata": {},
   "outputs": [],
   "source": [
    "msg_id = df['msg.id'].to_numpy().astype(np.uint16)\n",
    "msg_data = df['data'].to_numpy()"
   ]
  },
  {
   "cell_type": "code",
   "execution_count": 200,
   "metadata": {},
   "outputs": [
    {
     "name": "stdout",
     "output_type": "stream",
     "text": [
      "[['36366' 'MC1_status']\n",
      " ['35320' 'MC2_status']\n",
      " ['35719' 'MC3_status']\n",
      " ['35866' 'MC4_status']\n",
      " ['34911' 'MC1_temps']\n",
      " ['34759' 'MC2_temps']\n",
      " ['34847' 'MC3_temps']\n",
      " ['34755' 'MC4_temps']\n",
      " ['9194' 'MC1_energy']\n",
      " ['8694' 'MC2_energy']\n",
      " ['8899' 'MC3_energy']\n",
      " ['8992' 'MC4_energy']\n",
      " ['9237' 'MC1_setpoints_command']\n",
      " ['8805' 'MC2_setpoints_command']\n",
      " ['9279' 'MC3_setpoints_command']\n",
      " ['8892' 'MC4_setpoints_command']\n",
      " ['3430' 'MCU_status']\n",
      " ['6489' 'BMS_onboard_temperatures']\n",
      " ['54322' 'BMS_voltages']\n",
      " ['26135' 'BMS_detailed_voltages']\n",
      " ['12952' 'BMS_temperatures']\n",
      " ['8067' 'BMS_detailed_temperatures']\n",
      " ['3355' 'BMS_status']\n",
      " ['341' 'Dashboard_status']\n",
      " ['3397' 'EM_status']\n",
      " ['3409' 'EM_measurement']]\n"
     ]
    }
   ],
   "source": [
    "unique, freq = np.unique(msg_id, return_counts = True)\n",
    "hexes = np.array([p.MESSAGE_DICT[i][1] for i in unique])\n",
    "print(np.array((freq,hexes)).T)"
   ]
  },
  {
   "cell_type": "code",
   "execution_count": 180,
   "metadata": {},
   "outputs": [
    {
     "name": "stdout",
     "output_type": "stream",
     "text": [
      "10.4 ms ± 269 µs per loop (mean ± std. dev. of 7 runs, 100 loops each)\n"
     ]
    }
   ],
   "source": [
    "%%timeit -n 100\n",
    "#timea=time.time()\n",
    "a = p.parse_MC1_status(msg_id, msg_data)\n",
    "b = p.parse_MC2_status(msg_id, msg_data)\n",
    "c = p.parse_MC3_status(msg_id, msg_data)\n",
    "d = p.parse_MC4_status(msg_id, msg_data)\n",
    "#print((time.time()-timea))\n",
    "#a.shape"
   ]
  },
  {
   "cell_type": "code",
   "execution_count": 197,
   "metadata": {},
   "outputs": [
    {
     "name": "stdout",
     "output_type": "stream",
     "text": [
      "BMS_detailed_temperatures\n",
      "BMS_detailed_voltages\n",
      "BMS_onboard_temperatures\n",
      "BMS_temperatures\n",
      "BMS_voltages\n",
      "MCU_load_cells\n",
      "MC1_energy\n",
      "MC2_energy\n",
      "MC3_energy\n",
      "MC4_energy\n",
      "MC1_setpoints_command\n",
      "MC2_setpoints_command\n",
      "MC3_setpoints_command\n",
      "MC4_setpoints_command\n",
      "MC1_status\n",
      "MC2_status\n",
      "MC3_status\n",
      "MC4_status\n",
      "MC1_temps\n",
      "MC2_temps\n",
      "MC3_temps\n",
      "MC4_temps\n",
      "462500\n",
      "0.9707576317291869\n",
      "0.03072524070739746\n"
     ]
    }
   ],
   "source": [
    "#%%timeit -n 20\n",
    "timea=time.time()\n",
    "points = 0\n",
    "for i in p.MESSAGE_DICT.values():\n",
    "    try:\n",
    "        a = i[0](msg_id, msg_data)\n",
    "        points += a.shape[0]\n",
    "        print(i[1])\n",
    "    except:\n",
    "        continue\n",
    "print(points)\n",
    "print(points/msg_id.size)\n",
    "print((time.time()-timea))"
   ]
  },
  {
   "cell_type": "code",
   "execution_count": null,
   "metadata": {},
   "outputs": [],
   "source": []
  }
 ],
 "metadata": {
  "kernelspec": {
   "display_name": "ai_env",
   "language": "python",
   "name": "python3"
  },
  "language_info": {
   "codemirror_mode": {
    "name": "ipython",
    "version": 3
   },
   "file_extension": ".py",
   "mimetype": "text/x-python",
   "name": "python",
   "nbconvert_exporter": "python",
   "pygments_lexer": "ipython3",
   "version": "3.10.9"
  },
  "orig_nbformat": 4
 },
 "nbformat": 4,
 "nbformat_minor": 2
}
