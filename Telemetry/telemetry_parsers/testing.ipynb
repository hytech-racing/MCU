{
 "cells": [
  {
   "cell_type": "code",
   "execution_count": 242,
   "metadata": {},
   "outputs": [],
   "source": [
    "import pandas as pd\n",
    "import numpy as np\n",
    "import datetime as dt\n",
    "import sys"
   ]
  },
  {
   "cell_type": "code",
   "execution_count": 286,
   "metadata": {},
   "outputs": [
    {
     "name": "stdout",
     "output_type": "stream",
     "text": [
      "False\n",
      "305\n"
     ]
    }
   ],
   "source": [
    "df = pd.read_csv(\"../telemetry_exe/Raw_Data/data0101.csv\", dtype = str, on_bad_lines = \"skip\")\n",
    "init_sz = df.shape[0]\n",
    "df = df[df[\"time\"].str.len()==13]\n",
    "df = df[df['msg.len'].str.len()==1]\n",
    "df = df[~df['msg.id'].isnull()]\n",
    "df = df[~(df['msg.id'].str.len()<2)]\n",
    "df = df[~(df['msg.id'].str.len()>3)]\n",
    "\n",
    "df['time'] = pd.to_numeric(df['time'])\n",
    "print(np.any(df['time'][1:]-df['time'][:-1]<0))\n",
    "indices = np.where(df['time'][1:]-df['time'][:-1]<0)[0]+1\n",
    "df.iloc[indices]['time']=df['time'][indices]+1000\n",
    "df.iloc[265816-5:265816+5].head(10)\n",
    "\n",
    "#df['time'] = pd.to_datetime(df['time'], unit='ms')\n",
    "df[\"msg.id\"] = df[\"msg.id\"].apply(int, base = 16)\n",
    "df[\"msg.len\"] = pd.to_numeric(df['msg.len'])\n",
    "df = df[df['msg.len']*2 == df['data'].str.len()]\n",
    "df[\"data\"] = df[\"data\"].apply(int, base = 16)\n",
    "df = df.reset_index(drop=True)\n",
    "pruned_sz = df.shape[0]\n",
    "print(init_sz - pruned_sz)\n",
    "\n",
    "#df.head()"
   ]
  },
  {
   "cell_type": "code",
   "execution_count": 282,
   "metadata": {},
   "outputs": [
    {
     "ename": "TypeError",
     "evalue": "Invalid comparison between dtype=timedelta64[ns] and int",
     "output_type": "error",
     "traceback": [
      "\u001b[1;31m---------------------------------------------------------------------------\u001b[0m",
      "\u001b[1;31mInvalidComparison\u001b[0m                         Traceback (most recent call last)",
      "File \u001b[1;32mc:\\Users\\onjario\\miniconda3\\envs\\hytech\\lib\\site-packages\\pandas\\core\\arrays\\datetimelike.py:1054\u001b[0m, in \u001b[0;36mDatetimeLikeArrayMixin._cmp_method\u001b[1;34m(self, other, op)\u001b[0m\n\u001b[0;32m   1053\u001b[0m \u001b[39mtry\u001b[39;00m:\n\u001b[1;32m-> 1054\u001b[0m     other \u001b[39m=\u001b[39m \u001b[39mself\u001b[39;49m\u001b[39m.\u001b[39;49m_validate_comparison_value(other)\n\u001b[0;32m   1055\u001b[0m \u001b[39mexcept\u001b[39;00m InvalidComparison:\n",
      "File \u001b[1;32mc:\\Users\\onjario\\miniconda3\\envs\\hytech\\lib\\site-packages\\pandas\\core\\arrays\\datetimelike.py:588\u001b[0m, in \u001b[0;36mDatetimeLikeArrayMixin._validate_comparison_value\u001b[1;34m(self, other)\u001b[0m\n\u001b[0;32m    587\u001b[0m \u001b[39melif\u001b[39;00m \u001b[39mnot\u001b[39;00m is_list_like(other):\n\u001b[1;32m--> 588\u001b[0m     \u001b[39mraise\u001b[39;00m InvalidComparison(other)\n\u001b[0;32m    590\u001b[0m \u001b[39melif\u001b[39;00m \u001b[39mlen\u001b[39m(other) \u001b[39m!=\u001b[39m \u001b[39mlen\u001b[39m(\u001b[39mself\u001b[39m):\n",
      "\u001b[1;31mInvalidComparison\u001b[0m: 0",
      "\nDuring handling of the above exception, another exception occurred:\n",
      "\u001b[1;31mTypeError\u001b[0m                                 Traceback (most recent call last)",
      "Cell \u001b[1;32mIn[282], line 1\u001b[0m\n\u001b[1;32m----> 1\u001b[0m df[\u001b[39m'\u001b[39;49m\u001b[39mtime\u001b[39;49m\u001b[39m'\u001b[39;49m][\u001b[39m1\u001b[39;49m:]\u001b[39m-\u001b[39;49mdf[\u001b[39m'\u001b[39;49m\u001b[39mtime\u001b[39;49m\u001b[39m'\u001b[39;49m][:\u001b[39m-\u001b[39;49m\u001b[39m1\u001b[39;49m]\u001b[39m<\u001b[39;49m\u001b[39m0\u001b[39;49m\n",
      "File \u001b[1;32mc:\\Users\\onjario\\miniconda3\\envs\\hytech\\lib\\site-packages\\pandas\\core\\ops\\common.py:72\u001b[0m, in \u001b[0;36m_unpack_zerodim_and_defer.<locals>.new_method\u001b[1;34m(self, other)\u001b[0m\n\u001b[0;32m     68\u001b[0m             \u001b[39mreturn\u001b[39;00m \u001b[39mNotImplemented\u001b[39m\n\u001b[0;32m     70\u001b[0m other \u001b[39m=\u001b[39m item_from_zerodim(other)\n\u001b[1;32m---> 72\u001b[0m \u001b[39mreturn\u001b[39;00m method(\u001b[39mself\u001b[39;49m, other)\n",
      "File \u001b[1;32mc:\\Users\\onjario\\miniconda3\\envs\\hytech\\lib\\site-packages\\pandas\\core\\arraylike.py:50\u001b[0m, in \u001b[0;36mOpsMixin.__lt__\u001b[1;34m(self, other)\u001b[0m\n\u001b[0;32m     48\u001b[0m \u001b[39m@unpack_zerodim_and_defer\u001b[39m(\u001b[39m\"\u001b[39m\u001b[39m__lt__\u001b[39m\u001b[39m\"\u001b[39m)\n\u001b[0;32m     49\u001b[0m \u001b[39mdef\u001b[39;00m \u001b[39m__lt__\u001b[39m(\u001b[39mself\u001b[39m, other):\n\u001b[1;32m---> 50\u001b[0m     \u001b[39mreturn\u001b[39;00m \u001b[39mself\u001b[39;49m\u001b[39m.\u001b[39;49m_cmp_method(other, operator\u001b[39m.\u001b[39;49mlt)\n",
      "File \u001b[1;32mc:\\Users\\onjario\\miniconda3\\envs\\hytech\\lib\\site-packages\\pandas\\core\\series.py:6243\u001b[0m, in \u001b[0;36mSeries._cmp_method\u001b[1;34m(self, other, op)\u001b[0m\n\u001b[0;32m   6240\u001b[0m rvalues \u001b[39m=\u001b[39m extract_array(other, extract_numpy\u001b[39m=\u001b[39m\u001b[39mTrue\u001b[39;00m, extract_range\u001b[39m=\u001b[39m\u001b[39mTrue\u001b[39;00m)\n\u001b[0;32m   6242\u001b[0m \u001b[39mwith\u001b[39;00m np\u001b[39m.\u001b[39merrstate(\u001b[39mall\u001b[39m\u001b[39m=\u001b[39m\u001b[39m\"\u001b[39m\u001b[39mignore\u001b[39m\u001b[39m\"\u001b[39m):\n\u001b[1;32m-> 6243\u001b[0m     res_values \u001b[39m=\u001b[39m ops\u001b[39m.\u001b[39;49mcomparison_op(lvalues, rvalues, op)\n\u001b[0;32m   6245\u001b[0m \u001b[39mreturn\u001b[39;00m \u001b[39mself\u001b[39m\u001b[39m.\u001b[39m_construct_result(res_values, name\u001b[39m=\u001b[39mres_name)\n",
      "File \u001b[1;32mc:\\Users\\onjario\\miniconda3\\envs\\hytech\\lib\\site-packages\\pandas\\core\\ops\\array_ops.py:273\u001b[0m, in \u001b[0;36mcomparison_op\u001b[1;34m(left, right, op)\u001b[0m\n\u001b[0;32m    264\u001b[0m         \u001b[39mraise\u001b[39;00m \u001b[39mValueError\u001b[39;00m(\n\u001b[0;32m    265\u001b[0m             \u001b[39m\"\u001b[39m\u001b[39mLengths must match to compare\u001b[39m\u001b[39m\"\u001b[39m, lvalues\u001b[39m.\u001b[39mshape, rvalues\u001b[39m.\u001b[39mshape\n\u001b[0;32m    266\u001b[0m         )\n\u001b[0;32m    268\u001b[0m \u001b[39mif\u001b[39;00m should_extension_dispatch(lvalues, rvalues) \u001b[39mor\u001b[39;00m (\n\u001b[0;32m    269\u001b[0m     (\u001b[39misinstance\u001b[39m(rvalues, (Timedelta, BaseOffset, Timestamp)) \u001b[39mor\u001b[39;00m right \u001b[39mis\u001b[39;00m NaT)\n\u001b[0;32m    270\u001b[0m     \u001b[39mand\u001b[39;00m \u001b[39mnot\u001b[39;00m is_object_dtype(lvalues\u001b[39m.\u001b[39mdtype)\n\u001b[0;32m    271\u001b[0m ):\n\u001b[0;32m    272\u001b[0m     \u001b[39m# Call the method on lvalues\u001b[39;00m\n\u001b[1;32m--> 273\u001b[0m     res_values \u001b[39m=\u001b[39m op(lvalues, rvalues)\n\u001b[0;32m    275\u001b[0m \u001b[39melif\u001b[39;00m is_scalar(rvalues) \u001b[39mand\u001b[39;00m isna(rvalues):  \u001b[39m# TODO: but not pd.NA?\u001b[39;00m\n\u001b[0;32m    276\u001b[0m     \u001b[39m# numpy does not like comparisons vs None\u001b[39;00m\n\u001b[0;32m    277\u001b[0m     \u001b[39mif\u001b[39;00m op \u001b[39mis\u001b[39;00m operator\u001b[39m.\u001b[39mne:\n",
      "File \u001b[1;32mc:\\Users\\onjario\\miniconda3\\envs\\hytech\\lib\\site-packages\\pandas\\core\\ops\\common.py:72\u001b[0m, in \u001b[0;36m_unpack_zerodim_and_defer.<locals>.new_method\u001b[1;34m(self, other)\u001b[0m\n\u001b[0;32m     68\u001b[0m             \u001b[39mreturn\u001b[39;00m \u001b[39mNotImplemented\u001b[39m\n\u001b[0;32m     70\u001b[0m other \u001b[39m=\u001b[39m item_from_zerodim(other)\n\u001b[1;32m---> 72\u001b[0m \u001b[39mreturn\u001b[39;00m method(\u001b[39mself\u001b[39;49m, other)\n",
      "File \u001b[1;32mc:\\Users\\onjario\\miniconda3\\envs\\hytech\\lib\\site-packages\\pandas\\core\\arraylike.py:50\u001b[0m, in \u001b[0;36mOpsMixin.__lt__\u001b[1;34m(self, other)\u001b[0m\n\u001b[0;32m     48\u001b[0m \u001b[39m@unpack_zerodim_and_defer\u001b[39m(\u001b[39m\"\u001b[39m\u001b[39m__lt__\u001b[39m\u001b[39m\"\u001b[39m)\n\u001b[0;32m     49\u001b[0m \u001b[39mdef\u001b[39;00m \u001b[39m__lt__\u001b[39m(\u001b[39mself\u001b[39m, other):\n\u001b[1;32m---> 50\u001b[0m     \u001b[39mreturn\u001b[39;00m \u001b[39mself\u001b[39;49m\u001b[39m.\u001b[39;49m_cmp_method(other, operator\u001b[39m.\u001b[39;49mlt)\n",
      "File \u001b[1;32mc:\\Users\\onjario\\miniconda3\\envs\\hytech\\lib\\site-packages\\pandas\\core\\arrays\\datetimelike.py:1056\u001b[0m, in \u001b[0;36mDatetimeLikeArrayMixin._cmp_method\u001b[1;34m(self, other, op)\u001b[0m\n\u001b[0;32m   1054\u001b[0m     other \u001b[39m=\u001b[39m \u001b[39mself\u001b[39m\u001b[39m.\u001b[39m_validate_comparison_value(other)\n\u001b[0;32m   1055\u001b[0m \u001b[39mexcept\u001b[39;00m InvalidComparison:\n\u001b[1;32m-> 1056\u001b[0m     \u001b[39mreturn\u001b[39;00m invalid_comparison(\u001b[39mself\u001b[39;49m, other, op)\n\u001b[0;32m   1058\u001b[0m dtype \u001b[39m=\u001b[39m \u001b[39mgetattr\u001b[39m(other, \u001b[39m\"\u001b[39m\u001b[39mdtype\u001b[39m\u001b[39m\"\u001b[39m, \u001b[39mNone\u001b[39;00m)\n\u001b[0;32m   1059\u001b[0m \u001b[39mif\u001b[39;00m is_object_dtype(dtype):\n\u001b[0;32m   1060\u001b[0m     \u001b[39m# We have to use comp_method_OBJECT_ARRAY instead of numpy\u001b[39;00m\n\u001b[0;32m   1061\u001b[0m     \u001b[39m#  comparison otherwise it would fail to raise when\u001b[39;00m\n\u001b[0;32m   1062\u001b[0m     \u001b[39m#  comparing tz-aware and tz-naive\u001b[39;00m\n",
      "File \u001b[1;32mc:\\Users\\onjario\\miniconda3\\envs\\hytech\\lib\\site-packages\\pandas\\core\\ops\\invalid.py:36\u001b[0m, in \u001b[0;36minvalid_comparison\u001b[1;34m(left, right, op)\u001b[0m\n\u001b[0;32m     34\u001b[0m \u001b[39melse\u001b[39;00m:\n\u001b[0;32m     35\u001b[0m     typ \u001b[39m=\u001b[39m \u001b[39mtype\u001b[39m(right)\u001b[39m.\u001b[39m\u001b[39m__name__\u001b[39m\n\u001b[1;32m---> 36\u001b[0m     \u001b[39mraise\u001b[39;00m \u001b[39mTypeError\u001b[39;00m(\u001b[39mf\u001b[39m\u001b[39m\"\u001b[39m\u001b[39mInvalid comparison between dtype=\u001b[39m\u001b[39m{\u001b[39;00mleft\u001b[39m.\u001b[39mdtype\u001b[39m}\u001b[39;00m\u001b[39m and \u001b[39m\u001b[39m{\u001b[39;00mtyp\u001b[39m}\u001b[39;00m\u001b[39m\"\u001b[39m)\n\u001b[0;32m     37\u001b[0m \u001b[39mreturn\u001b[39;00m res_values\n",
      "\u001b[1;31mTypeError\u001b[0m: Invalid comparison between dtype=timedelta64[ns] and int"
     ]
    }
   ],
   "source": [
    "df['time'][1:]-df['time'][:-1]<0"
   ]
  },
  {
   "cell_type": "code",
   "execution_count": 199,
   "metadata": {},
   "outputs": [],
   "source": [
    "df = df.sample(frac=1).reset_index(drop=True)\n",
    "df.sort_values(by=['time'],inplace=True)\n",
    "df = df.reset_index(drop=True)"
   ]
  },
  {
   "cell_type": "code",
   "execution_count": 213,
   "metadata": {},
   "outputs": [
    {
     "data": {
      "text/plain": [
       "645.675053734879"
      ]
     },
     "execution_count": 213,
     "metadata": {},
     "output_type": "execute_result"
    }
   ],
   "source": [
    "\n",
    "df.shape[0]/(df.iloc[-1]['time']-df.iloc[0]['time']).total_seconds()"
   ]
  },
  {
   "cell_type": "code",
   "execution_count": 172,
   "metadata": {},
   "outputs": [],
   "source": [
    "rng = np.random.default_rng()"
   ]
  },
  {
   "cell_type": "code",
   "execution_count": 247,
   "metadata": {},
   "outputs": [],
   "source": [
    "arr = np.arange(20000000)\n",
    "rng.shuffle(arr)"
   ]
  },
  {
   "cell_type": "code",
   "execution_count": 189,
   "metadata": {},
   "outputs": [],
   "source": [
    "arr.sort()"
   ]
  },
  {
   "cell_type": "code",
   "execution_count": 279,
   "metadata": {},
   "outputs": [
    {
     "data": {
      "text/plain": [
       "265817   2019-01-01 00:05:12\n",
       "Name: time, dtype: datetime64[ns]"
      ]
     },
     "execution_count": 279,
     "metadata": {},
     "output_type": "execute_result"
    }
   ],
   "source": [
    "a = pd.to_numeric(df['time']).to_numpy()\n",
    "df.iloc[np.where(a[1:]-a[:-1]<0)[0]+1]['time']"
   ]
  },
  {
   "cell_type": "code",
   "execution_count": 287,
   "metadata": {},
   "outputs": [
    {
     "data": {
      "text/html": [
       "<div>\n",
       "<style scoped>\n",
       "    .dataframe tbody tr th:only-of-type {\n",
       "        vertical-align: middle;\n",
       "    }\n",
       "\n",
       "    .dataframe tbody tr th {\n",
       "        vertical-align: top;\n",
       "    }\n",
       "\n",
       "    .dataframe thead th {\n",
       "        text-align: right;\n",
       "    }\n",
       "</style>\n",
       "<table border=\"1\" class=\"dataframe\">\n",
       "  <thead>\n",
       "    <tr style=\"text-align: right;\">\n",
       "      <th></th>\n",
       "      <th>time</th>\n",
       "      <th>msg.id</th>\n",
       "      <th>msg.len</th>\n",
       "      <th>data</th>\n",
       "    </tr>\n",
       "  </thead>\n",
       "  <tbody>\n",
       "    <tr>\n",
       "      <th>265811</th>\n",
       "      <td>1546301112997</td>\n",
       "      <td>169</td>\n",
       "      <td>8</td>\n",
       "      <td>17077931261965631488</td>\n",
       "    </tr>\n",
       "    <tr>\n",
       "      <th>265812</th>\n",
       "      <td>1546301112998</td>\n",
       "      <td>218</td>\n",
       "      <td>7</td>\n",
       "      <td>1871406053229832</td>\n",
       "    </tr>\n",
       "    <tr>\n",
       "      <th>265813</th>\n",
       "      <td>1546301112999</td>\n",
       "      <td>163</td>\n",
       "      <td>8</td>\n",
       "      <td>34058472265939711</td>\n",
       "    </tr>\n",
       "    <tr>\n",
       "      <th>265814</th>\n",
       "      <td>1546301112999</td>\n",
       "      <td>167</td>\n",
       "      <td>8</td>\n",
       "      <td>10593288758273043456</td>\n",
       "    </tr>\n",
       "    <tr>\n",
       "      <th>265815</th>\n",
       "      <td>1546301112999</td>\n",
       "      <td>171</td>\n",
       "      <td>8</td>\n",
       "      <td>17294104044079415296</td>\n",
       "    </tr>\n",
       "    <tr>\n",
       "      <th>265816</th>\n",
       "      <td>1546301112999</td>\n",
       "      <td>215</td>\n",
       "      <td>8</td>\n",
       "      <td>9338300224108767424</td>\n",
       "    </tr>\n",
       "    <tr>\n",
       "      <th>265817</th>\n",
       "      <td>1546301112000</td>\n",
       "      <td>160</td>\n",
       "      <td>8</td>\n",
       "      <td>34058476460114944</td>\n",
       "    </tr>\n",
       "    <tr>\n",
       "      <th>265818</th>\n",
       "      <td>1546301113000</td>\n",
       "      <td>162</td>\n",
       "      <td>8</td>\n",
       "      <td>34058476309183487</td>\n",
       "    </tr>\n",
       "    <tr>\n",
       "      <th>265819</th>\n",
       "      <td>1546301113000</td>\n",
       "      <td>164</td>\n",
       "      <td>8</td>\n",
       "      <td>9800656323367464192</td>\n",
       "    </tr>\n",
       "    <tr>\n",
       "      <th>265820</th>\n",
       "      <td>1546301113000</td>\n",
       "      <td>166</td>\n",
       "      <td>8</td>\n",
       "      <td>11241552022211658753</td>\n",
       "    </tr>\n",
       "  </tbody>\n",
       "</table>\n",
       "</div>"
      ],
      "text/plain": [
       "                 time  msg.id  msg.len                  data\n",
       "265811  1546301112997     169        8  17077931261965631488\n",
       "265812  1546301112998     218        7      1871406053229832\n",
       "265813  1546301112999     163        8     34058472265939711\n",
       "265814  1546301112999     167        8  10593288758273043456\n",
       "265815  1546301112999     171        8  17294104044079415296\n",
       "265816  1546301112999     215        8   9338300224108767424\n",
       "265817  1546301112000     160        8     34058476460114944\n",
       "265818  1546301113000     162        8     34058476309183487\n",
       "265819  1546301113000     164        8   9800656323367464192\n",
       "265820  1546301113000     166        8  11241552022211658753"
      ]
     },
     "execution_count": 287,
     "metadata": {},
     "output_type": "execute_result"
    }
   ],
   "source": [
    "df.iloc[265816-5:265816+5].head(10)"
   ]
  },
  {
   "cell_type": "code",
   "execution_count": 249,
   "metadata": {},
   "outputs": [],
   "source": [
    "del arr"
   ]
  },
  {
   "cell_type": "code",
   "execution_count": 248,
   "metadata": {},
   "outputs": [
    {
     "data": {
      "text/plain": [
       "76.29405212402344"
      ]
     },
     "execution_count": 248,
     "metadata": {},
     "output_type": "execute_result"
    }
   ],
   "source": [
    "sys.getsizeof(arr)/(2**20)"
   ]
  },
  {
   "cell_type": "code",
   "execution_count": null,
   "metadata": {},
   "outputs": [],
   "source": []
  }
 ],
 "metadata": {
  "kernelspec": {
   "display_name": "ai_env",
   "language": "python",
   "name": "python3"
  },
  "language_info": {
   "codemirror_mode": {
    "name": "ipython",
    "version": 3
   },
   "file_extension": ".py",
   "mimetype": "text/x-python",
   "name": "python",
   "nbconvert_exporter": "python",
   "pygments_lexer": "ipython3",
   "version": "3.10.9"
  },
  "orig_nbformat": 4
 },
 "nbformat": 4,
 "nbformat_minor": 2
}
